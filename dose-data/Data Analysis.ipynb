{
 "cells": [
  {
   "cell_type": "code",
   "execution_count": 2,
   "metadata": {},
   "outputs": [],
   "source": [
    "import pandas as pd\n",
    "import numpy as np\n",
    "import matplotlib.pyplot as plt\n",
    "%matplotlib inline"
   ]
  },
  {
   "cell_type": "code",
   "execution_count": 3,
   "metadata": {},
   "outputs": [],
   "source": [
    "df = pd.read_csv(\"amazon_alexa.tsv\", sep=\"\\t\")"
   ]
  },
  {
   "cell_type": "markdown",
   "metadata": {},
   "source": [
    "## Look at the data"
   ]
  },
  {
   "cell_type": "code",
   "execution_count": 4,
   "metadata": {},
   "outputs": [
    {
     "name": "stdout",
     "output_type": "stream",
     "text": [
      "<class 'pandas.core.frame.DataFrame'>\n",
      "RangeIndex: 3150 entries, 0 to 3149\n",
      "Data columns (total 5 columns):\n",
      " #   Column            Non-Null Count  Dtype \n",
      "---  ------            --------------  ----- \n",
      " 0   rating            3150 non-null   int64 \n",
      " 1   date              3150 non-null   object\n",
      " 2   variation         3150 non-null   object\n",
      " 3   verified_reviews  3150 non-null   object\n",
      " 4   feedback          3150 non-null   int64 \n",
      "dtypes: int64(2), object(3)\n",
      "memory usage: 123.2+ KB\n"
     ]
    }
   ],
   "source": [
    "# Info shows us there are 3150 entries containing the columns\n",
    "# \"rating\", \"date\", \"variation\", \"verified_reviews\", \"feedback\"\n",
    "df.info()"
   ]
  },
  {
   "cell_type": "code",
   "execution_count": 5,
   "metadata": {},
   "outputs": [
    {
     "data": {
      "text/html": [
       "<div>\n",
       "<style scoped>\n",
       "    .dataframe tbody tr th:only-of-type {\n",
       "        vertical-align: middle;\n",
       "    }\n",
       "\n",
       "    .dataframe tbody tr th {\n",
       "        vertical-align: top;\n",
       "    }\n",
       "\n",
       "    .dataframe thead th {\n",
       "        text-align: right;\n",
       "    }\n",
       "</style>\n",
       "<table border=\"1\" class=\"dataframe\">\n",
       "  <thead>\n",
       "    <tr style=\"text-align: right;\">\n",
       "      <th></th>\n",
       "      <th>rating</th>\n",
       "      <th>date</th>\n",
       "      <th>variation</th>\n",
       "      <th>verified_reviews</th>\n",
       "      <th>feedback</th>\n",
       "    </tr>\n",
       "  </thead>\n",
       "  <tbody>\n",
       "    <tr>\n",
       "      <th>0</th>\n",
       "      <td>5</td>\n",
       "      <td>31-Jul-18</td>\n",
       "      <td>Charcoal Fabric</td>\n",
       "      <td>Love my Echo!</td>\n",
       "      <td>1</td>\n",
       "    </tr>\n",
       "    <tr>\n",
       "      <th>1</th>\n",
       "      <td>5</td>\n",
       "      <td>31-Jul-18</td>\n",
       "      <td>Charcoal Fabric</td>\n",
       "      <td>Loved it!</td>\n",
       "      <td>1</td>\n",
       "    </tr>\n",
       "    <tr>\n",
       "      <th>2</th>\n",
       "      <td>4</td>\n",
       "      <td>31-Jul-18</td>\n",
       "      <td>Walnut Finish</td>\n",
       "      <td>Sometimes while playing a game, you can answer...</td>\n",
       "      <td>1</td>\n",
       "    </tr>\n",
       "    <tr>\n",
       "      <th>3</th>\n",
       "      <td>5</td>\n",
       "      <td>31-Jul-18</td>\n",
       "      <td>Charcoal Fabric</td>\n",
       "      <td>I have had a lot of fun with this thing. My 4 ...</td>\n",
       "      <td>1</td>\n",
       "    </tr>\n",
       "    <tr>\n",
       "      <th>4</th>\n",
       "      <td>5</td>\n",
       "      <td>31-Jul-18</td>\n",
       "      <td>Charcoal Fabric</td>\n",
       "      <td>Music</td>\n",
       "      <td>1</td>\n",
       "    </tr>\n",
       "  </tbody>\n",
       "</table>\n",
       "</div>"
      ],
      "text/plain": [
       "   rating       date         variation  \\\n",
       "0       5  31-Jul-18  Charcoal Fabric    \n",
       "1       5  31-Jul-18  Charcoal Fabric    \n",
       "2       4  31-Jul-18    Walnut Finish    \n",
       "3       5  31-Jul-18  Charcoal Fabric    \n",
       "4       5  31-Jul-18  Charcoal Fabric    \n",
       "\n",
       "                                    verified_reviews  feedback  \n",
       "0                                      Love my Echo!         1  \n",
       "1                                          Loved it!         1  \n",
       "2  Sometimes while playing a game, you can answer...         1  \n",
       "3  I have had a lot of fun with this thing. My 4 ...         1  \n",
       "4                                              Music         1  "
      ]
     },
     "execution_count": 5,
     "metadata": {},
     "output_type": "execute_result"
    }
   ],
   "source": [
    "# I use head to get an idea of what the data actually looks like\n",
    "df.head()"
   ]
  },
  {
   "cell_type": "code",
   "execution_count": 6,
   "metadata": {},
   "outputs": [
    {
     "data": {
      "text/plain": [
       "array([1, 0])"
      ]
     },
     "execution_count": 6,
     "metadata": {},
     "output_type": "execute_result"
    }
   ],
   "source": [
    "# rating, date, variation, and verified_reviews are what I would expect. Since feedback is not intuitive, I looked into it\n",
    "df['feedback'].unique()"
   ]
  },
  {
   "cell_type": "code",
   "execution_count": 7,
   "metadata": {},
   "outputs": [
    {
     "data": {
      "text/html": [
       "<div>\n",
       "<style scoped>\n",
       "    .dataframe tbody tr th:only-of-type {\n",
       "        vertical-align: middle;\n",
       "    }\n",
       "\n",
       "    .dataframe tbody tr th {\n",
       "        vertical-align: top;\n",
       "    }\n",
       "\n",
       "    .dataframe thead th {\n",
       "        text-align: right;\n",
       "    }\n",
       "</style>\n",
       "<table border=\"1\" class=\"dataframe\">\n",
       "  <thead>\n",
       "    <tr style=\"text-align: right;\">\n",
       "      <th></th>\n",
       "      <th>rating</th>\n",
       "      <th>date</th>\n",
       "      <th>variation</th>\n",
       "      <th>verified_reviews</th>\n",
       "      <th>feedback</th>\n",
       "    </tr>\n",
       "    <tr>\n",
       "      <th>feedback</th>\n",
       "      <th></th>\n",
       "      <th></th>\n",
       "      <th></th>\n",
       "      <th></th>\n",
       "      <th></th>\n",
       "    </tr>\n",
       "  </thead>\n",
       "  <tbody>\n",
       "    <tr>\n",
       "      <th>0</th>\n",
       "      <td>2</td>\n",
       "      <td>46</td>\n",
       "      <td>14</td>\n",
       "      <td>207</td>\n",
       "      <td>1</td>\n",
       "    </tr>\n",
       "    <tr>\n",
       "      <th>1</th>\n",
       "      <td>3</td>\n",
       "      <td>76</td>\n",
       "      <td>16</td>\n",
       "      <td>2095</td>\n",
       "      <td>1</td>\n",
       "    </tr>\n",
       "  </tbody>\n",
       "</table>\n",
       "</div>"
      ],
      "text/plain": [
       "          rating  date  variation  verified_reviews  feedback\n",
       "feedback                                                     \n",
       "0              2    46         14               207         1\n",
       "1              3    76         16              2095         1"
      ]
     },
     "execution_count": 7,
     "metadata": {},
     "output_type": "execute_result"
    }
   ],
   "source": [
    "# feedback only contains 0 and 1, so at this point I'm guessing it is a boolean for if a verified_reviews exists\n",
    "# for that entry, so I just check that my guess is correct\n",
    "df.groupby('feedback').nunique()\n",
    "# But since there are 207 unique verified_reviews values for feedback of 0, this cannot be correct, so I look at\n",
    "# those values"
   ]
  },
  {
   "cell_type": "code",
   "execution_count": 8,
   "metadata": {
    "scrolled": true
   },
   "outputs": [
    {
     "data": {
      "text/plain": [
       "array([\"It's like Siri, in fact, Siri answers more accurately then Alexa.  I don't see a real need for it in my household, though it was a good bargain on prime day deals.\",\n",
       "       'Sound is terrible if u want good music too get a bose',\n",
       "       'Not much features.',\n",
       "       \"Stopped working after 2 weeks ,didn't follow commands!? Really fun when it was working?\",\n",
       "       'Sad joke. Worthless.',\n",
       "       'Really disappointed Alexa has to be plug-in to wall socket all the time.  My fault for not checking this, but made the assumption that a company has technologically advanced as Amazon would sell this product with a rechargeable battery.  If I could return it, I would as my Apple music and boom speaker give me more flexibility the Alexa.',\n",
       "       \"It's got great sound and bass but it doesn't work all of the time. Its still hot or miss when it recognizes things\",\n",
       "       \"I am not super impressed with Alexa. When my Prime lapsed, she wouldn't play anything. She isn't smart enough to differentiate among spotify accounts so we can't use it for that either. She randomly speaks up when nobody is talking to her. Just today I unplugged her...not sure I'll ever use my Alexa again.\",\n",
       "       'Too difficult to set up.  It keeps timing out before you can enter the password',\n",
       "       'Alexa hardly came on..',\n",
       "       'Item no longer works after just 5 months of use. Will not connect to wifi and unresponsive to reset requests.',\n",
       "       \"This thing barely works. You have to select 3rd party apps to do stuff you'd think it could do out of the box. I'm sending mine back asap. Waste of money.\",\n",
       "       'I returned 2 Echo Dots & am only getting refund for 1. I returned 2 in one package. I want my refunds for both of them. They are in the same package. Can you not see them both???!!!',\n",
       "       'not working', \"I'm an Echo fan but this one did not work\", ' ',\n",
       "       \"Doesn't always respond when spoken to with promp word. I thought it would connect to my echo upstairs and use it like an intercom haven't been able to do that.\",\n",
       "       \"It worked for a month or so then it stopped. I've tried everything to try and make it work but nothing is working. I want a refund\",\n",
       "       'Poor quality. Gave it away.',\n",
       "       \"Never could get it to work. A techie friend looked at it for me and said the adapter wasn't strong enough to power it and that it looked like it had been bought at a dollar store. So, I am going to replace the adapter and hope it works then.\",\n",
       "       \"Initially, this echo dot worked very well. Over time, the dot stopped responding to 'alexa' unless you were within one foot of it yelling. The other echos/echo dots in other rooms would respond without a response from this echo dot. Would not recommend buying refurbished.\",\n",
       "       \"I bought an echo dot that had been refurbished but its stops whatever function its performing quite often, doesn't wake up every time, randomly turns on but does nothing. Do not buy a refurbished Echo dot.\",\n",
       "       'Dont trust this....',\n",
       "       'I wanted to use these as a radio and intercom as we get terrible fm reception where i live.  The speech recognition software is horrible.  My wife and i both are native Americans whose language is English she is from the north i am from Texas  neither have an accent from our birth area and yet it does not do a good job understanding us.  We bought two they do the same thing.  Additionally wifi reception was poor to marginal. I had to buy Wifi range extender for office and the other is ten feet from our router.  Both had problems Switched them around no difference.  So it they are now disconnected dust collectors.',\n",
       "       'Item has never worked. Out of box it is broken. Spent several days trying to get it working and running same &#34;fixes&#34; from Amazon. The only thing accomplished is I will never order another refurbished device.',\n",
       "       'Great product but returning for new Alexa Dot.  Refurbished is already giving me problems with connection.',\n",
       "       '&#34;NEVER BUY CERTIFIED AND REFURBISHED ECHO DOT &#34; I bought a &#34;Certified and Refurbished &#34; Echo Dot. This unit is very poor in receiving command and sometimes it does not even acknowledge the command. Never buy a refurbished Echo dot. The unit I received was probably never was certified and refurbished as indicated. I also bought a new ECHO dot, it works perfectly.Very disappointed !!!!',\n",
       "       'This item did not work. Certified refurbished should mean it works as advertised. Instead this item crashed as soon as I turned it on and plugged it in. When trying to connect from my phone to the echo dot, it crashed, over and over. Not only would it disconnect but the orange light would freeze and then the thing would reboot with the blue light. Alexa would tell me it’s ready to connect and freeze mid sentence. Tried holding the action button for 5 seconds and it didn’t do anything. Returning immediately and hope they actually fix this item when the next buyer purchases it.',\n",
       "       'None', 'Does not work all the time', \"I've already returned it.\",\n",
       "       \"Now I'm weary about these picking up conversations when you are not actively using them - heard about this happening on the news.  I have 3-4, so this is very concerning.  I wish Amazon would release something widespread  or push some firmware to prevent this.  If they have, I have not heard about it yet.\",\n",
       "       'There was something wrong with the first one that no even the rep I spoke with could fix. The replacement was registered to someone else. When the price of the Dot went down to $39.99 (same price as the refurbished ones), I bought a brand, spanking new one. No problem with the new one.',\n",
       "       \"Two weeks after setting it up it no longer works.  No connection, no light, no sound.  I guess I shouldn't have purchased a refurbished Dot.\",\n",
       "       'Not good at all!',\n",
       "       'This is the worst Amazon purchase I have made. I am big Amazon fan...love the brand...unlimited digital music...prime videos...even buy my online games, music, and movies through Amazon. This app I have tried to use it make simple purchases -- to do anything. It is useless.',\n",
       "       'The echo dot disconnects from the speaker about 12-20 times a day. Do not buy the refurbished product.  2 stars for effort.',\n",
       "       'cant seem to get this thing to sink with my wireless not sure If I will be returning it will try one more time.',\n",
       "       'product stopped working after return time ran out',\n",
       "       'Stopped working after 7 months. The warranty was only good for 3 months. I would have assumed an amazon product sold on amazon would have had higher standards than guaranteeing that it would work for 3 whole months. I mean what is this product supposed to be, a piece of junk?They offered my a 15% discount if I wanted to buy another one. Why would I want to buy another one?',\n",
       "       'Bought this for my son and it didn’t work. He had to return it.',\n",
       "       'Bought 2 and both quit connecting to wifi and responding to voice within 9 months. Hard and soft reset will not fix the problem.',\n",
       "       'The second one which was a refurbished model did work-at least not in my home.',\n",
       "       'Very bad this device, I don’t know if it’s because is refurbished or what but it activated by itself , nobody is talking and he just activated and start talking. When you talk you have to yell super lauded',\n",
       "       \"So far not impressed at all. Does not save groups correctly can not understand me most of the time I'm not sure what the excitement is all about. Alexas voice sounds like it's under water how am I supposed to understand!!!!I'm going to return and try a google home!!!\",\n",
       "       \"great product, but useless overall. Too many unnecessary features. Unless you have a smart home you don't need it\",\n",
       "       'I cant figure out how to use it.', 'It doesn’t always  work',\n",
       "       'All the new Amazon products I have are great everything I bought refurbished is complete garbage. I will never purchase Amazon refurbished again total dissatisfaction',\n",
       "       'Extremely low in volume',\n",
       "       \"Brought to replace one that I moved and doesn't have the same range as my previous (non refurbished) unit. It would seldom be able to find the Wi-Fi and couldn't connect. Got tired of hearing the message (&#34;trouble connecting...check the Alexa app...&#34;) and just unplugged it. I went through the troubleshooting and reconnected it several times, it's just not as strong.\",\n",
       "       'If you want to listen to music and have it come through several of the Echo/Dot units simultaneously, YOU MUST PAY A MONTHLY FEE. I thought this was Amazon, not Apple??!! I’ve paid for many of these so I could have one in each room, is that not enough of my money??!!??',\n",
       "       'Eh. It’s works on and off. Half the time it does not respond when you say wake up name. Other then that works fine',\n",
       "       'I wanted a white dot for my white bathroom.  The top is black as shown, which I knew, but I did not realize the cord and plug were also black. I wanted a white cord and plug.',\n",
       "       'I set up the Echo Dot and it worked for an hour and then died completely. DO NOT BUY refurbished!!!! I sent back for return the day after I received.',\n",
       "       'This Echo Dot is horrible. The volume on my phone is louder than than this device. My boss has one at this is not the case',\n",
       "       \"It's ok. The speaker is pretty terrible. Google home is a better product.\",\n",
       "       'The first one quit working shortly after I got it. The next one becomes unresponsive to my voice at times and the only way to get it to work is through the app. I am not sure if it just this Dot or they are all this way.',\n",
       "       'Device was not working. Followed all instructions for Alexa echo dot and it did not come on. Very upsetting.',\n",
       "       'Sent it back due to crackling noise and turning itself off and on - but what can you expect with a refurbished item?',\n",
       "       'Honestly I like it but at the same time I don’t I could have bought a smaller one that did the exact same thing for less then half I bought it for the video chat and I have never really used it',\n",
       "       'It is very slow compared to the echo',\n",
       "       \"As an Alexa device, it works just as well as any of the other products.  Unfortunately it doesn't go up from there.  The ability to play videos is very limited.  You CAN NOT play YouTube and when you can play a video the cropping of the screen makes it look very strange. There is quite a selection of clock faces, and you can control what is displays with one glaring and VERY ANNOYING exception.  You can't turn off the &#34;Things to try&#34; screen You can turn off the screen scroll, but that defeats the purpose of having the screen.  I don't need to be reminded every 5 seconds what things I can do with Alexa.  I don't need the advertising, especially at the cost of this device.  Overall, its an expensive Alexa device with a screen that's not very useful and annoying.  I would not recommend this until the Amazon people get their act together and come up with a screen that's actually useful.\",\n",
       "       'I returnef this item because it does not speak Spanish',\n",
       "       \"When we first received this product, it was great.  However, about a week ago, the device served up a video advertisement around 10:30pm at night and scared myself and my family.  If you want to make sure you are protected and don't allow video directly in your home, the spot is not a device that can keep you safe.\",\n",
       "       'After only a couple of days Alexa did not answer. I have disconnected and will see if it does any better after reconnecting.',\n",
       "       \"I wanted to use it as a clock in our bedroom.  But the font is too small to see from any distance.  And apparently you can't change it.\",\n",
       "       'Meh',\n",
       "       \"This product currently has two related software flaws that make it completely unusable:1) There is a &#34;card&#34; on the homescreen called &#34;Things To Try&#34; -- it's an ad for other Alexa services you can try. You can turn off all the other homescreen cards, but not this one.2) By default, the homescreen cards &#34;cycle&#34; automatically, which is incredibly annoying. There is a setting where you can opt to have the cards only &#34;cycle once&#34; instead of &#34;cycle continuously&#34;, but critically *this setting does not work*. My unit has been set to &#34;cycle once&#34;, and the cards still continue to cycle all the time. Have rebooted the device, re-set, etc etc.Until these two obvious software issues are fixed, in my opinion the product is useless.\",\n",
       "       \"You need a Harvard law degree to operate this thing! It's going back very soon!\",\n",
       "       'product turns on randomly and sometimes at night',\n",
       "       'I would love this but there is no way to stop the screen from constantly scrolling through “things to try”. If Amazon would make this a setting I would change my review to 5 stars.',\n",
       "       \"I haven't figured out how to make or receive calls.  Device tells me I need to register and I do not know what to do.\",\n",
       "       \"Great product and I would give 5 stars - but you can't scroll face cards without having the stupid &#34;try and ask Alexa&#34; suggestions pop up.  Yes you can have it scroll once, and just stay on the clock, but I like having other cards as well. God its the worst and SO irritating.  I got it super cheap, so i just face the screen toward the wall and treat it like a Dot instead of a Spot.  What a dumb move on Amazons\\u200b part.\",\n",
       "       'This product is a complete waste of money. When you ask Alexa a question \"she\" either doesn\\'t know the answer, gives you the wrong answer or finds information off of Wikipedia!',\n",
       "       \"Honestly it's no different from the Echo dots I already own,  other then occasionally seeing the lyrics to a song I'm listening too i really don't see the difference.\",\n",
       "       'I switched to google. The amazon helper is more for shopping, and google is the tasks assistant.',\n",
       "       'ALEXA IS NOT AS SMART AS SIRI! CANNOT CANCEL SNOOZE AFTER ALARM GOES OFF. HAVE TO CANCEL PRE-SET ALARM FOR WEEKDAYS.',\n",
       "       \"Great product EXCEPT there is no possible way for it to act as a clock the displays the time PERMANENTLY.  When in 'Clock' mode, the screen rotates between the clock face and a 'Things to Try' screen.  I intended on buying several units for my house, but I do not need a screen in the house that is permanently trying to upset me.  Acting as clock should be a BASIC feature of the Echo Spot.  How could you get this wrong, Amazon??  #FAIL\",\n",
       "       \"I wanted to use this as a bedside clock with the ability to play music and podcasts. Sadly, it continuously scrolls the &#34;Things to try&#34; and won't stay on the clock face. Amazon is about to get this one back.\",\n",
       "       'Not happy with the Spot.  Reset numerous times.  Seems to be in slow mode.  Have to be practically on top of it for it to hear me.  Even after talking with support I still do not have “themes” in the menu to choose from!',\n",
       "       \"All is fine with the Spot exact for one massive failing.  In order to turn off a repeating alarm in the morning you pretty much have to talk - which is not a thing you usually want to do when first woken up and your bed partner will definitely not like.  YES, you can manually swipe up on the alarm face to dismiss but i) swiping up rather than touching screen when you are half asleep is very difficult and results in setting snooze more than half the time even if you really try to swipe to dismiss and ii) if you do manage to swipe up to dismiss, then you completely delete your recurring alarm.This is especially annoying as Amazon could so easily fix this by simply making touching the screen turn off the alarm but NOT delete it or at least make it a setting to decide whether touching the screen for a recurring alarm snoozes or turns it off.  But as the clock has been out for a year now and they still haven't adding this setting, clearly not going to happen.  This may be the biggest product design screw up Amazon has ever made.\",\n",
       "       'item returned for repair ,receivded item back from repair 07/23/18 . parts missing no power cord included.please advise',\n",
       "       \"For as awesome as the Echo and Echo Dots are, the Spot is a disappointment. There is very little control over what the screen shows, what the clock looks like, what order things show up in, etc. At this point if I hadn't thrown the box away immediately, I would have sent it back and just got another full size Echo.\",\n",
       "       'Product forces user to review Alexa Things to Try. There is no way to disable it.',\n",
       "       'Can’t be used as a baby monitor which is why I had purchased it.  I didn’t realize this until I read the reviews on the Alexa skill for syncing the Nest Cam.  Considering all of the poor reviews and the fact that it should be simple to fix, surprised Amazon hasn’t upgraded the software to allow more than 39 minutes of viewing or alerts like you get on the Nest app.',\n",
       "       'I own 3 of these...  amazon is ignoring its customers and using these devices as a marketing tool.  You can customize the screen contents, but you cannot turn off there advertising, Things to Try...  People will suggest that you can, but you can only do so if you turn off all content changes which is not an acceptable option.Moreover, they should increase the size slightly, and improve the audio speaker.  That would give you a 5 star device.Right now i’m debating whether to return all 3 devices.  My wife says we should.',\n",
       "       'Disconnects often',\n",
       "       'Get rid of the &#34;Thongs To Try&#34; screen!!!!!!!!!! Numb nuts!!!!!',\n",
       "       'The echo works fine but then you get indundated with &#34;Things to try&#34;. I am not a 10 year old that needs stimulus to tell me to do things. I found there is no way to turn this off except for .... turning off the screen. If I cannot find a suitable fix for this it goes back.',\n",
       "       \"Can't turn of &#34;things to try&#34; on the screen scroll. This  is a big promotion device for Amazon.  Packing it up and sending it back.  They really want to get in our heads.  Enough already.\",\n",
       "       'This thing woke me up in the middle of the night saying “ready for setup”. It was already setup. Should be a simple thing to check  time before asking. Wife not happy...',\n",
       "       'The product is attractive and somewhat useful, BUT, Amazon chose to force users to view their “things to try” and Trending”.  This greatly depreciates the value of the product.  Do not buy unless you are willing to view a billboard from Amazon.',\n",
       "       \"It's not as good as Siri, BUT it still has some positives, it's great at playing music, and setting alarms. I personally felt that I paid too much for this product, as it was nearly half off on prime day (literally the day after I purchased it). So I'm pretty disappointed. I might still return it and get my money back. .\",\n",
       "       'Fairly useless.',\n",
       "       'Bought the spot and loved it. Within months it started acting funny and would stop working—called and they determined that it was overheating. I was told to unplug and technical support would call within 24-48 hours. Waited 48 hours without response and replied to email and was asked to wait a week. A week goes by with absolutely no response so I do the inline chat per instructions. Told to wait longer. REALLY????  Unacceptable—expected more from Amazon. Find it funny how they always thank me for being a Prime member but when an issue arises I cannot even get assistance.',\n",
       "       'For the size of the screen this thing should be $25',\n",
       "       'Invasive and scared the crap out of me for speaking when it was not spoken to! CREAPY AF',\n",
       "       \"I love the product , but very disappointed once I  realized I can no longer play youtube videos.  I'm now past my 30 days return date.  I am realizing I now have an expensive alarm clock.  I am hoping youtube comes back.  I was looking to buy an echo show for the kitchen during prime day. Glad I didn't.\",\n",
       "       'Waste of money over the echo generation 2.  You don’t really get anything more from a video chat on this device then you would on FaceTime or Skype and it does not cycle through your pictures when you put it on slideshow mode it sticks on the first photo and will not leave it no matter what you do I have even looked online to research articles and cannot find a solution.  I have also had problems with this device shutting down and I have not had these problems on any of the other echo devices.  Price difference is just not worth it',\n",
       "       \"No you tube wouldn't have bought it if I known that\",\n",
       "       \"Don't waste your money.  I own an echo gen 1, and echo gen 2 and a dot. They all do a far better job of voice recognition that the Echo Show.  In fact, it is so bad that it is virtually useless.  Also, the speaker is incredibly bass heavy....so much so that it is hard to understand voices.  I've worked to adjust the bass and punch the mids and treble, but it still sounds awful.  Finally, the screen just doesn't add much.  I can't see if from across the room, it rarely activates in any meaningful way, and when it doesn't, it is more of a distraction than a help.(Using FaceTime is so much more practicalthan using the Show.) I'm surprised Amazon didn't make this a little more useful than it is.  Perhaps in the future, but for now, it is a waste of time and money.\",\n",
       "       'Thought it would be more powerful and have a lot more functionality. Not much better than the Echo dot. Not worth the money.',\n",
       "       'Do not understand all the excitement over these alexa devices or the google ones either.  It rarely gets what I say correct, does not control the Dish receiver.  Yes I set it up correctly, using the alexa app on my phone.  We got this for 129,  which is a good deal, ti is definately not worth the 229 price though.  Maybe in another month it will get better, or either I have one that is just deaf and dumb.  Really can not recommend this item at the current time',\n",
       "       'Very disappointed.  Alexa doesn’t hear me and doesn’t respond to my requests.',\n",
       "       \"I have been through 4 Shows now.  And ALL OF THEM HAVE BEEN BROKEN.  It has been anything from screens that lose lines of resolution to timers and reminders going off an hour late or reminders that trigger when trying to set other reminders.  I don't have these issues on my Dot or my Echo.  Just on the Show.  It would be nice if Amazon could get there act together and actually fix this thing.\",\n",
       "       'Alexa is pretty dumb ,,,',\n",
       "       'Fire HD does so much more.  Over priced pair of speakers.',\n",
       "       'Very intrusive, so I turn it off',\n",
       "       \"It's like having another kid in the house; I have to constantly repeat myself.I can tell Alexa to do something clear as day, and according to the history, she hears something comeletely different.The device is really cool, and I like the concept, which is why it gets two stars. However, it just doesn't work as intended.I find myself irritated more often than not when I use this device.\",\n",
       "       'The way the music sounds is poor quality',\n",
       "       'All of my echo devices stopped communicating properly with Sonos devices upon connecting the echo show to my account. Asking any echo device to play music on Sonos baffled the system that had previously worked flawlessly. This went on for two weeks until I eventually solved the problem that neither Amazon nor Sonos could figure out.',\n",
       "       'It f****** sucks',\n",
       "       \"Always wanted one,till I got one, it's not at all what it's cracked up to be, it's hard to navigate I actually like the dot better.\",\n",
       "       'Echo Show is said to work with certain apps but,NOT!!! Cozi state works with Echo Show, but the Cozi Family’s doesn’t very well, Amazon needs to go back to drawing board, it would be such a needed piece of technology, but it lacks the essential, please fix. Cost of the Echo Show was  marvelous . Got Echo Show to take on shopping list but that is all so far, adding items to list has long lag, and it not my router being slow, my provider speed is !GB, speed not a problem, but before new items is updated on Cozi is very slow. Help is needed to get it updated to A1 working conditioning.',\n",
       "       'Disappointed that this device Is not able to access youtube as of Dec 2017. I wasn’t aware of that when I purchased it. I’ve had problems with my device. The voice stops working throughout the day. I can see it trying to respond to me, because the window it opens contains the info I asked about, but it’s like the device gets stuck in the process. It stops working, and the blue bar just flashes. I keep having to unplug and restart the device. Once I do that, it starts working again. So irritating. This device could really be a great device if Google and Amazon would act like grownups...',\n",
       "       'Returned from repair with No repair done. It has a problem which requires it to be on for a while for the defective part to show itself.I sent it for repair and got it back without being fixed.  The site gives no option to complain from the page.I have a echo spot which works perfectly in the same position.',\n",
       "       'Great device, features are awesome, the interaction is fantastic. Home automation works perfect if you link up your accounts correctly. My only issue is out of (4) Echo Shows (2) of them have been sent off for repair because of the screen glitching!! These are less than 3 months old and already having issues!First repairs were sent off and they “updated the firmware” when I got the device back nothing worked, I had to update to the newest firmware for it to work again. Then (2) weeks later the glitch starts up again!I love the show but I’m getting really frustrated with the glitching.',\n",
       "       \"I bought this product hoping that Alexa would be pretty well developed and far enough along, therefore expecting her to be responsive. This $100 piece of crap doesnt even know how to respond to a question that amazon themselves told me to ask her. (Echo buttons manual, see Step 3.) The device has potential given it has a big screen, decent sound but for 200 bucks, I would never reccomend it. Even for the $100 I spent, I feel like I got shorted. Oh and lastly, the device is pretty useless without a prime membership. I linked my personal account to it and the thing was literally a decorated bluetooth speaker. I went on the family account (this one) and got it to work minimal. Oh, and even with our prime membership, you have to have a music pass or something that's an extra 3.99 a month, leaving this item a subscription nightmare, and a overpriced, decorated bluetooth speaker in my eyes. I would give it zero stars if I could.\",\n",
       "       'Our family bought several of these to help communicate with older parents and grandparents who need simpler devices than a full-fledged tablet.  What fantastic potential these have - for digital photo screen, video calls, easy accesss to music, audio books, etc. However, once we have them setup, we discovered the huge lurking negative.  Amazon forces you to view continous spam on the home screen promoting all their Alexa features.  You can turn off many other things in settins, but you cannot turn off &#34;Things to Try&#34;.  Instead of a beautiful digital photo screen with weather and time ... we now constantly have a spam ad across the home screen that says, &#34;Try ......&#34;.  AMAZON, please listen to your customers and offer a setting to turn off this SPAM!',\n",
       "       'No YouTube',\n",
       "       'Works fine, I just realize I don’t need this because I don’t use it.',\n",
       "       'Need to be able to connect to more 3rd party viceo apps',\n",
       "       'The tech isn’t there. It doesn’t understand most common words and is basically a glorified radio',\n",
       "       'The sound on these is terrible. It’s like a tin can. I love my echo but this item is awful.',\n",
       "       'This was my 4th echo device, 1st echo show  it seemed to have huge potential, and I really wanted to like it, but soon found out it is quite limited. A bit disappointing, but not the end of the world, I used it like I use my other, screenless echos.... For a little under 2 month, when the screen started flickering, mostly on the bottom of the screen but not just. A quick look in some forums made me understand it is pointless asking for a replacement, as some people had 2-3 devices replaced, only to start flickering again shortly after. Amazon are not providing any serious answers, and this has been going on for quite some time apparently.Long story short, I moved it to the hallway, and been using it as a very expensive... and bulky voice activated light switch for my hue lights. So like the headline suggests... Meh.',\n",
       "       'Alexa didn’t know answers to many questions we asked. For example we asked how many cups in a pound and she said a pound is a form of money',\n",
       "       \"I decided to buy smart door lock and decided on getting the Echo Plus to control it.  I chose a Kwikset 888 because Amazon said it was compatible and I bought 2 Dots while I was at it.  And when I posed the question, somebody in the community said it will work with Alexa.  What I didn't know was the Z-wave lock and Zigbee Alexa hub weren't compatible.  Does any body know of a lock that works seamlessly with Echo Plus?  If not, I guess my choices are: 1. Exchange the Plus for a regular Echo and buy a separate hub like Wink.  2. Return the whole Alexa system and get something else.I  don't want to just buy another hub to use along side my Echo Plus or I'll be back here asking how to integrate two hubs.The reason I kept from buying smart systems up to this point  is because I was afraid they wouldn't operate seamlessly and unfortunately I only do enough research after something doesn't work.\",\n",
       "       'no habla espanol',\n",
       "       \"no it is broke and I can't get help fixing or replacing it\",\n",
       "       'I’m still unable to connect any devices although it says it has a built in hub. So bought a bridge to connect the devices thinking that everything would sync and my other devices are still not discovered via my echo plus and I was looking forward to this feature. Being able to play music, check the weather etc is fine.',\n",
       "       'Terrible. Stopped working after one day.',\n",
       "       'It does not speak in Spanish,,,I bought it for my grandmother to have someone to talk to when I’m not around,,,,,no Spanish!',\n",
       "       \"When I got this Echo I was excited to have a device with better sound than my Dot and a hub to control some Hue bulbs.What I didn't realize and also wasn't fully communicated to me, is that you can't use Hue bulbs to their full potential with this device. You can only turn on and off the lights and set them to a number of preset colors. You also cannot update the bulbs to the newest firmare which is a security concern for me.Do not buy this if you want a full featured hub for your new IoT devices. If you do, you will end up needing to update to a standalone hub, which makes the hub inside this device redundant and pointless.I still love the echo and have zero complaints about the Alexa functionality or sound quality of this device. I'm only disappointed with the hub's functionalities.\",\n",
       "       \"I am so disappointed in this product.  I tried to install two different units and neither one of them were successfully completed.  Hours with Amazon technicians.. resetting each of them.  The app didn't connect the Echo Plus to the internet connection.  Tried using the application on a phone, a tablet and on a Chromebook... No luck.  There are no clean directions on the application.  Probably sending this back to Amazon..mark this as Not ready for prime time.\",\n",
       "       'The alexa is awesome but when i rcieved the light buld i did not know that u need another adapter to have the light buld to work. I was not aware of that.  Disappointed',\n",
       "       'wish it had a battery or was described better as a plug in only item.',\n",
       "       \"It was harder to setup then I thought it should be, for some reason I had to default  it twice. Had to go thru too many steps to setup and find my devices. Would be nice if it could interact with my Xfinity cable tv cable box and it also does not work with my Xfinity alarm for my house or my cameras, be nice set and disarm the alarm with Alexa. Had to install a skill app to setup bulb ??? whats that about, you ship it with your product ??? should have said (Alexa setup bulb) or (Alexa find new bulb) ??? and (Alexa setup Nest)??? it's fine that you use third party apps but Alexa should do the work for you.\",\n",
       "       'The echo part works fine.  The hue hub is a disaster.  It worked for a few months and then nothing.  I spent 2 hours on the phone with tech support one =y to have to send it in for repair.  I am now trying to reconnect my lights.  What a pain.  I am having to reset each light bulb.  It can take up to 5 times to get it to reset.  I have spent hours on this.  I will say customer service was friendly and tried to be helpful.  Stick with the echo and smart plugs for lamps.',\n",
       "       'It was supposed to come with a free Hue lightbulb on Amazon Prime Day.  No light bulb arrived.  False advertising!',\n",
       "       \"Haven't had it a week and already it cannot connect to my network. Tried reconnecting manually and the echo never appears in the list of devices to connect. It will be on it's way back to Amazon\",\n",
       "       \"I'll be returning it.  It's been nothing but annoying.  The hub can't be turned off if not needed and it interferes with my Hue Bridge.  I can't even install Philips lights with it unless I unplug it to do so.  There are plenty of other reviews that go in depth with the issues.  Bottom line is it sucks as a hub.  It doesn't support z-wave and zigbee (which in fairness I knew in advance), but when the one protocol it does support doesn't do many functions that a dedicated one will, what's the point?  I noticed right away that my Philips Hue Bridge supports firmware upgrades to the light bulbs themselves and this doesn't.  I found that rather interesting.\",\n",
       "       'The Echo does not link to Direct tv even though they said it would. I have spent multiple hours on this. Made phone calls and texts. Also is missing free bulb.',\n",
       "       \"Doesn't use apple music.  It is worthless to me without it.  Sound quality on it is also poor.\",\n",
       "       \"I'm sure the Echo is as cool as everyone says....but I won't get to try this one. Even though I have a Large covered porch.....the package was left on my top step on a day forecast for 100% chance of rain.....and rain it did, soaking the package. I'm not even going to open it and see how bad the damage is. This order has been cursed from the beginning. Ordered as a Birthday Gift and Delivery was not made on scheduled day. Now I get it, and its rain-soaked.\",\n",
       "       'I am not tec smart enough to make it work at all. Will send it back if I cant get help. My eco dot works just fine. this is too complacated.I just wanted a bigger speaker.',\n",
       "       'Product does not.  Light bar never went orange.  I googled it and reset instructions actually differ from package instructions. I tried both.  Product is defective',\n",
       "       \"I have been thinking about getting this for a long time and was excited when it arrived bundled with a Philip Hue bulb.  The excited ended quickly.  I spend about a total of 4 hours attempting to add this bulb to my Alexa Echo Plus.  Everything I tried, ended in a Discovery Failed message.  I tried to set this up over and over and over again.  I watched YouTube videos.  I read set up websites.  I was the poster child of insanity (doing the same thing over and over again and expecting different results).The next day I went onto Amazon to get the tech support.  I was hoping something would be done to make this thing work, but also the problem not being operator error.  Well after 3 tech support staff and 1 hr. and 19 mins. of being on the phone, it still didn't work.  This product has tested my patience.  So far this experience is shifting my mindset from going to a smart home to just kicking it old school.The only reason I gave this two stars is because Amazon will be sending me a different Echo Plus and light bulb.  The problem wasn't the bulb, because before packing up the items, I purchased another bulb and still Alexa couldn't locate this device.I pray the next attempt is successful and then I will revise this rating, but what are the odds that I was shipped a defective Echo?  The support person had the same thought.  Maybe I should be exploring the Google device but I can't get over the look of that hub.  It looks like a defuser.I can't believe I didn't find YouTube videos that show the problems I did.  Everything looked simple and seamless...NOT the experience I had.  OK, I'm done with this review because I spend enough wasted time this weekend already.\",\n",
       "       'received the wrong product...was so excited to install it ...all excitement gone. Thank you Amazon.',\n",
       "       \"Why do we need to buy a $100 hub to get it to work with Samsung TV's and many other devices?  I want my money back!  This thing won't even turn on my TV unless I buy another hub.  What's the point of having a hub that doesn't support half the devices out there?  DON'T buy this thing unless you want to spend another $100 on another hub.  It won't work with many of your devices.  Just by the Echo or Dot if you must but not this.  Better yet, get a Google device.  They actually understand you when you talk.\",\n",
       "       'I only purchase the echo plus because it has a built in hub and came with the free philips hue bulb.  When I got everything set up, I realized the echo plus hub won’t allow full functionality of the bulb.  All it does is turn the light on/off and dim.  It will not change colors.  You still have to have a Hue Bridge to have full function of all the features of the bulb.  I wish I’d bought the bulb and bridge separately to use with the echo I already had since the built in hub on this echo will essentially be useless and I’ll have to buy the hue bridge to get the full benefit of the lights.',\n",
       "       \"At a volume setting of half or less, the speaker sounds like there is something rattling, crackling or vibrating in it.  I'd understand if the volume was set higher.  All speakers get distorted when over-driven.  But this doesn't sound like this is an over-driven case; sounds like more of a rattle/crackle.  Possibly because the bass is too high.  Learned that there is no ability to adjust any of the sound characteristics (other than volume).  I will attempt to exchange it assuming it is just an isolated problem.\",\n",
       "       'I bought this for myself and i didn’t realize it had to be plugged in just to work. It isn’t convenient to make them always have to connect to a wall. It should’ve been more clear when i bought it.',\n",
       "       \"I would like to tell you that I have a reason to hate it like the speakers suck, or the color, or the shape or even the way it smells, but I can honestly say the number reason I hate this device is I have tried to set it up 3x's now to no avail, I have 4 other Echo devices already that I set up and use quite regularly, I have reset my phone (Galaxy S8), checked the app for updates, I have cycled power to the Echo unit with each attempt. I work in the network/technology industry for a living and have for over 20 years now, so lack of experience or knowledge is not the problem here. I used the app and the device even tells me it is connected and to follow the app to continue set up, the set up screen just continues to roll the 3 dots around the screen for about 5 minutes before the app locks up on my phone and I have to force the app to close, restart my phone and the Echo and try again. I figured 3x's was enough, it shouldn't be that hard a techie, I can only imagine how bad this will prove to be for people whom have no clue about technology....I hope they won't call me I'll tell em to send the product back!\",\n",
       "       'Unit came with the wrong plug, will have to send back to Amazon.',\n",
       "       'The sound quality is not that good, especially for the price that you pay for this. I would recommend to get the Echo Dot and buy a better speaker instead. Maybe Sonos and use the Echo dot.',\n",
       "       'I will be returning this piece of garbage as soon as possible. With my lifetime Amazon spending approaching nearly $40,000, I’m sure I’m just a small customer to them, but I’ve rarely been so disappointed out of hundreds if not thousands of Amazon purchases.I have 8+ echos for home automation and bought this Echo Plus specifically for the built-in hub along with approximately $600+ in zigbee light switches. The voice control is subpar even when it works, and that is a rarity. Most often it does nothing. I could not be more disappointed with this product and strongly discourage you from investing in the Amazon/Zigbee ecosystem. If you value your money, and expect a working product then you need to look elsewhere',\n",
       "       'Didn’t really work as smooth as they make it seem like.',\n",
       "       'As an echo its great, Good sound quality and functionality. As a smart home hub, it sucks. No automation, no geo-fencing, no music syncing for hue, no z-wave. All it does is turn things on with your voice. Ended up buying a smartthing hub and transferring everything over.',\n",
       "       'Got this a few months ago with the idea that it will help control my smart bulbs and be useful with answering questions and getting daily weather updates.It’s far from being useful.Half the time when you “wake” the device to ask a question or initiate a command, it doesn’t hear what you say and turns off. Basically ignoring you. Often she is unable to answer basic questions.It’s been so frustrating. Alexa has been more work rather than making my life easier.I would return it but I’m past the return period...... zzzz',\n",
       "       'It is much more difficult to use than the Chromecast.',\n",
       "       'Fast to load. But keeps rebooting  in middle of shows',\n",
       "       \"I just think that it's to darn confusing. And there are parts that i would try and just wouldn't work. I just don't like it. Not what i thought it would be.\",\n",
       "       'I will never buy anything Amazon makes again!This fire stick is not even a year old and it does nothing but restart and freeze up constantly. No warranty from Amazon in this should have been my first clue that it was a horrible device. I will never buy anything built by Amazon again.',\n",
       "       'Was loving it but starting in June Hulu stopped working and crunchyroll doesn’t work either. Probably will switch to something else soon.',\n",
       "       'It still doesn’t work.  I bet if I call and let them know that, they will charge me for the 3rd time.  Ridiculous.',\n",
       "       'I’m very unhappy with this Firestick, every time we change programs or channels within a program there is a very long delay. We have 2 Roku’s That work just fine and are very quick.',\n",
       "       'Had to return it as Hulu does not work on device.  It kept coming up with errors, and Hulu app not being able to open at times.  It was hit and miss, and at times, Hulu will stop working right in the middle of a show or movie.  Plus fire stick is very slow in opening the apps.',\n",
       "       'The Firestick we were sent doesn’t work. At all.  Voice remote won’t even turn on. We did all the troubleshooting steps. Didn’t work. Contacted Amazon. They sent us a new one - with no remote/no way to control it! We gave up and got a Roku (which works great!)',\n",
       "       'My old amazon fire stick kept crashing when using Sling TV.I bought this one thinking the old one was defective.This one is doing the same thing. When going back into Sling, it starts up where I left off in the program.',\n",
       "       'Ordered 2 on deal day. 1 doesn’t work and 2 nd just went down after 2 days 😏',\n",
       "       \"I don't like how I cannot load my Hulu account, it is also very slow. I know it is not my Internet connection because I have an Xbox One that works just fine, but my Fire TV Stick takes forever to load anything.\",\n",
       "       \"It's constantly buffering, to the point where you can't watch anything without interruption. I purchased on Prime Day plus I used rewards to pay for it, so in the end I paid next to nothing. If I had paid full price for it I might want my money back. We stopped trying to use it and went back to our old streaming device. I know our internet service is not the issue because we do not have this problem with any other devices that we stream from.\",\n",
       "       'I don’t like that it goes into sleep mode after 20-30 minutes of “inactivity”. I shouldn’t have to “wake up” the fire tv to finish watching a show.',\n",
       "       \"I liked it until on day after a year it no longer worked, would not power up  and go past the firestick  logo on tv. Bought a second one, will not buy a third if this one doesn't last longer....\",\n",
       "       'It don’t show nothing',\n",
       "       'Very disappointed when we had to mandatory upgrade and when we final got done with the upload, we had lost our local Charlotte NC channels (which are pur news and weather also)  (CBS, NBC, ABC) and 2 days later was Amazon day with discounts on what we had JUST ordered.',\n",
       "       'Garbage...Even trying to watch Amazon Prime Video this piece of garbage looses internet connection half way thru a show. The cheapest Roku works 100 time better. DO not waste your time or money on this piece of garbage.',\n",
       "       \"I would not recommend this to anyone. It won't load netflix or if it does on rare occasion it won't run the program all the way thru. It tells you the we are unable to process this title at this time. Try again later.  It is not the Netflix site cause I can stream it just fine on my computer.  Its the Firestick. very disappointing.\",\n",
       "       'las películas no tiene o no se pueden cambiar a español o títulos en español',\n",
       "       'Was excited to try this on my new Element TV.  Unfortunately even though my TV is 5 feet away from my router i get maddening disconnections and buffering.  Thought this little device was supposed to take care of that issue.  It didn’t!',\n",
       "       'Menu doesn’t work. Says it can’t connect to amazon network',\n",
       "       'I would love this remote if i wasnt spending so much money replacing the batteries. Its upsetting that i spent money on such a great device all for the batteries not to last.',\n",
       "       'Purchased to use on the road in my semi. Does not work in that application.',\n",
       "       \"Seems to work ok, but no youtube tv?  Really?  can't believe they would ban an app that so many people want to use.  I really wanted to like it, but when I couldn't install that particular app it became almost useless, almost.  Does most other stuff just fine, but I'll stick with my Roku.\",\n",
       "       \"I am quite disappointed by this product.There clearly is a bug: half of the time I ask for a newsflash, two second after it starts, the whole thing stops and reboots for a couple of minutes. Same goes when I ask to play the radio. Also, many times it get confused when I ask to switch of &#34;the lights&#34;...as other items are also named the same, which is not true. Clearly no AI or natural language, very 'beta' stage still for me. Not impressed!\",\n",
       "       'Nope. Still a lot to be improved. For most of the things we ask.. It says.. Hmmmm.. I dont know that.',\n",
       "       \"I reached out to Amazon, because the device wanted to sync my phone number but it would not allow because it said my number was already in use.  Customer service couldn't help they basically told me to contact Sprint to assist.  So Echo does the bare minimum without access to my phone for set up, so its kind of pointless to have and pay for.\",\n",
       "       \"I didn't like that almost everytime i asked Alexa a question she would say i dont know that or i havent learned that.\",\n",
       "       'The volume is very low', 'Cheap and cheap sound.',\n",
       "       'For the price, the product is nice quality and has a few nice features. So definitely no complaints there. The reason why I only gave it 3 stars is because the echo dot is not what I thought it was going to be so that may just be buyer error. First, I didn’t know that the product has to be plugged in at all times to work. So I really don’t like that it’s not a stand alone device. Also, the speaker is not very loud so if you are buying it as a Bluetooth speaker, don’t. Lastly, I’m sure the echo dot can do a lot but I haven’t quite figured out how to use it fully but it just kind of seems like an unnecessary device to own, plus setting it up was awful. I would definitely save the money and buy the nicer one that is actually “Alexa”.',\n",
       "       'Used twice not working!!!!!!!',\n",
       "       'This device does not interact with my home filled with Apple devices.  How disappointing!',\n",
       "       'Not all that happy. The speaker isn’t great and for some reason a lot of times when I play music it will start to make some weird noise and just stop. My son has a google home and it is much better',\n",
       "       'When you think about it this really doesn’t do much. Play music, answer stupid questions, finally it was able to hook up to thermostat. I can see why price is dropping like a rock.',\n",
       "       \"This worked well for about 6 months but then stopped connecting to the internet (wifi) and none of the trouble shooting efforts worked.  Amazon customer service couldn't help further and told me warranty was only 3 months, which was very disappointing, so they weren't willing to replace.\",\n",
       "       'Ask it to play Motown radio on Pandora and it keeps asking if I want to add a salsa station. Motown isn’t close to salsa phonetically.',\n",
       "       'Sound is terrible. Cannot pair with echo to play simultaneously.  Must upgrade to amazon music if you want to play more than one device at a time.',\n",
       "       \"I am having real difficulty working with the Echo Dot. Alexi is not very smart. 9 out of 10 questions I have asked I get the &#34;I'm not sure&#34;  Half the time I am still asking the question and Alexi is saying &#34;I'm not sure&#34;. The music is great and works well for that. All in All so far it's been a very frustrating experience.\",\n",
       "       \"I was really happy with my original echo so i thought I'd get an echo dot to use in my bedroom. I was really disappointed in the audio quality so I connected an external speaker via bluetooth. The audio was much better but I started having problems with it loosing connection with the wifi, presumably due to interference from the bluetooth. Then  I connected a speaker via the auxiliary jack. when i did that, the auxiliary jack picked up interference from the wifi and I was woken up in the middle of the night by a horrible buzzing sound. im hoping Amazon will take this thing back and give me a good deal on an echo spot which I hope will be a better nightstand device.\",\n",
       "       \"Weak sound. Compared to the Google Home Mini the sound is bad. Also you need Prime to have a small selection of music and need prime music to play everything. Also if you get two you need prime family music to play music on both. I think it's lame that you need a family plan to use multiple devices.\",\n",
       "       \"Echo Dot responds to us when we aren't even talking to it. I've unplugged it. It feels like it's &#34;spying&#34; on us.\",\n",
       "       'NOT CONNECTED TO MY PHONE PLAYLIST :(',\n",
       "       'The only negative we have on this product is the terrible sound quality.  A massive difference from the Alexa.  Which to us was a big reason we wanted to purchase this.Won’t be buying another until the speaker and sound quality can improve.',\n",
       "       'I didn’t order it',\n",
       "       'The product sounded the same as the emoji speaker from five below my sister has ... and even that one has Bluetooth and doesn’t need to be plugged in. The only good thing about this is that you can speak to it.'],\n",
       "      dtype=object)"
      ]
     },
     "execution_count": 8,
     "metadata": {},
     "output_type": "execute_result"
    }
   ],
   "source": [
    "df[df['feedback'] == 0]['verified_reviews'].unique()\n",
    "# At this point I do not know what feedback is, so I went back to look at the kaggle, but found no description"
   ]
  },
  {
   "cell_type": "code",
   "execution_count": 9,
   "metadata": {},
   "outputs": [
    {
     "data": {
      "text/plain": [
       "<AxesSubplot:>"
      ]
     },
     "execution_count": 9,
     "metadata": {},
     "output_type": "execute_result"
    },
    {
     "data": {
      "image/png": "[encoded data removed]",
      "text/plain": [
       "<Figure size 432x288 with 1 Axes>"
      ]
     },
     "metadata": {
      "needs_background": "light"
     },
     "output_type": "display_data"
    }
   ],
   "source": [
    "# The other thing I think a boolean with the name feedback could be is if the person recommends the product\n",
    "# So I look at the distribution of ratings by feedback, assuming there is a correlation\n",
    "df[df['feedback'] == 1]['rating'].value_counts().plot(kind='bar')"
   ]
  },
  {
   "cell_type": "code",
   "execution_count": 10,
   "metadata": {
    "scrolled": true
   },
   "outputs": [
    {
     "data": {
      "text/plain": [
       "<AxesSubplot:>"
      ]
     },
     "execution_count": 10,
     "metadata": {},
     "output_type": "execute_result"
    },
    {
     "data": {
      "image/png": "[encoded data removed]",
      "text/plain": [
       "<Figure size 432x288 with 1 Axes>"
      ]
     },
     "metadata": {
      "needs_background": "light"
     },
     "output_type": "display_data"
    }
   ],
   "source": [
    "df[df['feedback'] == 0]['rating'].value_counts().plot(kind='bar')\n",
    "# Seems like that is what feedback is, so now we have a good understanding of what our data is and looks like"
   ]
  },
  {
   "cell_type": "markdown",
   "metadata": {},
   "source": [
    "## Plots"
   ]
  },
  {
   "cell_type": "code",
   "execution_count": 11,
   "metadata": {},
   "outputs": [
    {
     "data": {
      "text/plain": [
       "<AxesSubplot:>"
      ]
     },
     "execution_count": 11,
     "metadata": {},
     "output_type": "execute_result"
    },
    {
     "data": {
      "image/png": "[encoded data removed]",
      "text/plain": [
       "<Figure size 432x288 with 1 Axes>"
      ]
     },
     "metadata": {
      "needs_background": "light"
     },
     "output_type": "display_data"
    }
   ],
   "source": [
    "# Plot ratings\n",
    "df['rating'].value_counts()[df['rating'].unique()].plot(kind='bar')\n",
    "# These are overwhelmingly positive ratings"
   ]
  },
  {
   "cell_type": "code",
   "execution_count": 12,
   "metadata": {},
   "outputs": [
    {
     "data": {
      "text/plain": [
       "<AxesSubplot:ylabel='feedback'>"
      ]
     },
     "execution_count": 12,
     "metadata": {},
     "output_type": "execute_result"
    },
    {
     "data": {
      "image/png": "[encoded data removed]",
      "text/plain": [
       "<Figure size 432x288 with 1 Axes>"
      ]
     },
     "metadata": {},
     "output_type": "display_data"
    }
   ],
   "source": [
    "# Feedback Ratio\n",
    "df['feedback'].value_counts().plot(kind=\"pie\", autopct='%1.1f%%')\n",
    "# The reviews are definitely very positive"
   ]
  },
  {
   "cell_type": "code",
   "execution_count": 13,
   "metadata": {},
   "outputs": [
    {
     "data": {
      "text/plain": [
       "<AxesSubplot:xlabel='variation'>"
      ]
     },
     "execution_count": 13,
     "metadata": {},
     "output_type": "execute_result"
    },
    {
     "data": {
      "image/png": "[encoded data removed]",
      "text/plain": [
       "<Figure size 432x288 with 1 Axes>"
      ]
     },
     "metadata": {
      "needs_background": "light"
     },
     "output_type": "display_data"
    }
   ],
   "source": [
    "# Lets looks at the mean rating by device variation to see if there is significant difference between variations\n",
    "df.groupby('variation').mean()['rating'].plot(kind=\"bar\", ylim=(4,5))\n",
    "# There is some variation, but it's all between 4 and 5."
   ]
  },
  {
   "cell_type": "code",
   "execution_count": 14,
   "metadata": {},
   "outputs": [
    {
     "data": {
      "text/html": [
       "<div>\n",
       "<style scoped>\n",
       "    .dataframe tbody tr th:only-of-type {\n",
       "        vertical-align: middle;\n",
       "    }\n",
       "\n",
       "    .dataframe tbody tr th {\n",
       "        vertical-align: top;\n",
       "    }\n",
       "\n",
       "    .dataframe thead tr th {\n",
       "        text-align: left;\n",
       "    }\n",
       "\n",
       "    .dataframe thead tr:last-of-type th {\n",
       "        text-align: right;\n",
       "    }\n",
       "</style>\n",
       "<table border=\"1\" class=\"dataframe\">\n",
       "  <thead>\n",
       "    <tr>\n",
       "      <th></th>\n",
       "      <th colspan=\"8\" halign=\"left\">rating</th>\n",
       "      <th colspan=\"8\" halign=\"left\">feedback</th>\n",
       "    </tr>\n",
       "    <tr>\n",
       "      <th></th>\n",
       "      <th>count</th>\n",
       "      <th>mean</th>\n",
       "      <th>std</th>\n",
       "      <th>min</th>\n",
       "      <th>25%</th>\n",
       "      <th>50%</th>\n",
       "      <th>75%</th>\n",
       "      <th>max</th>\n",
       "      <th>count</th>\n",
       "      <th>mean</th>\n",
       "      <th>std</th>\n",
       "      <th>min</th>\n",
       "      <th>25%</th>\n",
       "      <th>50%</th>\n",
       "      <th>75%</th>\n",
       "      <th>max</th>\n",
       "    </tr>\n",
       "    <tr>\n",
       "      <th>variation</th>\n",
       "      <th></th>\n",
       "      <th></th>\n",
       "      <th></th>\n",
       "      <th></th>\n",
       "      <th></th>\n",
       "      <th></th>\n",
       "      <th></th>\n",
       "      <th></th>\n",
       "      <th></th>\n",
       "      <th></th>\n",
       "      <th></th>\n",
       "      <th></th>\n",
       "      <th></th>\n",
       "      <th></th>\n",
       "      <th></th>\n",
       "      <th></th>\n",
       "    </tr>\n",
       "  </thead>\n",
       "  <tbody>\n",
       "    <tr>\n",
       "      <th>Black</th>\n",
       "      <td>261.0</td>\n",
       "      <td>4.233716</td>\n",
       "      <td>1.339838</td>\n",
       "      <td>1.0</td>\n",
       "      <td>4.0</td>\n",
       "      <td>5.0</td>\n",
       "      <td>5.0</td>\n",
       "      <td>5.0</td>\n",
       "      <td>261.0</td>\n",
       "      <td>0.865900</td>\n",
       "      <td>0.341414</td>\n",
       "      <td>0.0</td>\n",
       "      <td>1.0</td>\n",
       "      <td>1.0</td>\n",
       "      <td>1.0</td>\n",
       "      <td>1.0</td>\n",
       "    </tr>\n",
       "    <tr>\n",
       "      <th>Black  Dot</th>\n",
       "      <td>516.0</td>\n",
       "      <td>4.453488</td>\n",
       "      <td>1.027660</td>\n",
       "      <td>1.0</td>\n",
       "      <td>4.0</td>\n",
       "      <td>5.0</td>\n",
       "      <td>5.0</td>\n",
       "      <td>5.0</td>\n",
       "      <td>516.0</td>\n",
       "      <td>0.930233</td>\n",
       "      <td>0.255002</td>\n",
       "      <td>0.0</td>\n",
       "      <td>1.0</td>\n",
       "      <td>1.0</td>\n",
       "      <td>1.0</td>\n",
       "      <td>1.0</td>\n",
       "    </tr>\n",
       "    <tr>\n",
       "      <th>Black  Plus</th>\n",
       "      <td>270.0</td>\n",
       "      <td>4.370370</td>\n",
       "      <td>1.158391</td>\n",
       "      <td>1.0</td>\n",
       "      <td>4.0</td>\n",
       "      <td>5.0</td>\n",
       "      <td>5.0</td>\n",
       "      <td>5.0</td>\n",
       "      <td>270.0</td>\n",
       "      <td>0.896296</td>\n",
       "      <td>0.305442</td>\n",
       "      <td>0.0</td>\n",
       "      <td>1.0</td>\n",
       "      <td>1.0</td>\n",
       "      <td>1.0</td>\n",
       "      <td>1.0</td>\n",
       "    </tr>\n",
       "    <tr>\n",
       "      <th>Black  Show</th>\n",
       "      <td>265.0</td>\n",
       "      <td>4.490566</td>\n",
       "      <td>0.996635</td>\n",
       "      <td>1.0</td>\n",
       "      <td>4.0</td>\n",
       "      <td>5.0</td>\n",
       "      <td>5.0</td>\n",
       "      <td>5.0</td>\n",
       "      <td>265.0</td>\n",
       "      <td>0.932075</td>\n",
       "      <td>0.252092</td>\n",
       "      <td>0.0</td>\n",
       "      <td>1.0</td>\n",
       "      <td>1.0</td>\n",
       "      <td>1.0</td>\n",
       "      <td>1.0</td>\n",
       "    </tr>\n",
       "    <tr>\n",
       "      <th>Black  Spot</th>\n",
       "      <td>241.0</td>\n",
       "      <td>4.311203</td>\n",
       "      <td>1.247764</td>\n",
       "      <td>1.0</td>\n",
       "      <td>4.0</td>\n",
       "      <td>5.0</td>\n",
       "      <td>5.0</td>\n",
       "      <td>5.0</td>\n",
       "      <td>241.0</td>\n",
       "      <td>0.867220</td>\n",
       "      <td>0.340043</td>\n",
       "      <td>0.0</td>\n",
       "      <td>1.0</td>\n",
       "      <td>1.0</td>\n",
       "      <td>1.0</td>\n",
       "      <td>1.0</td>\n",
       "    </tr>\n",
       "    <tr>\n",
       "      <th>Charcoal Fabric</th>\n",
       "      <td>430.0</td>\n",
       "      <td>4.730233</td>\n",
       "      <td>0.683994</td>\n",
       "      <td>1.0</td>\n",
       "      <td>5.0</td>\n",
       "      <td>5.0</td>\n",
       "      <td>5.0</td>\n",
       "      <td>5.0</td>\n",
       "      <td>430.0</td>\n",
       "      <td>0.972093</td>\n",
       "      <td>0.164898</td>\n",
       "      <td>0.0</td>\n",
       "      <td>1.0</td>\n",
       "      <td>1.0</td>\n",
       "      <td>1.0</td>\n",
       "      <td>1.0</td>\n",
       "    </tr>\n",
       "    <tr>\n",
       "      <th>Configuration: Fire TV Stick</th>\n",
       "      <td>350.0</td>\n",
       "      <td>4.591429</td>\n",
       "      <td>0.990751</td>\n",
       "      <td>1.0</td>\n",
       "      <td>5.0</td>\n",
       "      <td>5.0</td>\n",
       "      <td>5.0</td>\n",
       "      <td>5.0</td>\n",
       "      <td>350.0</td>\n",
       "      <td>0.920000</td>\n",
       "      <td>0.271682</td>\n",
       "      <td>0.0</td>\n",
       "      <td>1.0</td>\n",
       "      <td>1.0</td>\n",
       "      <td>1.0</td>\n",
       "      <td>1.0</td>\n",
       "    </tr>\n",
       "    <tr>\n",
       "      <th>Heather Gray Fabric</th>\n",
       "      <td>157.0</td>\n",
       "      <td>4.694268</td>\n",
       "      <td>0.647108</td>\n",
       "      <td>2.0</td>\n",
       "      <td>5.0</td>\n",
       "      <td>5.0</td>\n",
       "      <td>5.0</td>\n",
       "      <td>5.0</td>\n",
       "      <td>157.0</td>\n",
       "      <td>0.987261</td>\n",
       "      <td>0.112504</td>\n",
       "      <td>0.0</td>\n",
       "      <td>1.0</td>\n",
       "      <td>1.0</td>\n",
       "      <td>1.0</td>\n",
       "      <td>1.0</td>\n",
       "    </tr>\n",
       "    <tr>\n",
       "      <th>Oak Finish</th>\n",
       "      <td>14.0</td>\n",
       "      <td>4.857143</td>\n",
       "      <td>0.363137</td>\n",
       "      <td>4.0</td>\n",
       "      <td>5.0</td>\n",
       "      <td>5.0</td>\n",
       "      <td>5.0</td>\n",
       "      <td>5.0</td>\n",
       "      <td>14.0</td>\n",
       "      <td>1.000000</td>\n",
       "      <td>0.000000</td>\n",
       "      <td>1.0</td>\n",
       "      <td>1.0</td>\n",
       "      <td>1.0</td>\n",
       "      <td>1.0</td>\n",
       "      <td>1.0</td>\n",
       "    </tr>\n",
       "    <tr>\n",
       "      <th>Sandstone Fabric</th>\n",
       "      <td>90.0</td>\n",
       "      <td>4.355556</td>\n",
       "      <td>0.997875</td>\n",
       "      <td>1.0</td>\n",
       "      <td>4.0</td>\n",
       "      <td>5.0</td>\n",
       "      <td>5.0</td>\n",
       "      <td>5.0</td>\n",
       "      <td>90.0</td>\n",
       "      <td>0.933333</td>\n",
       "      <td>0.250841</td>\n",
       "      <td>0.0</td>\n",
       "      <td>1.0</td>\n",
       "      <td>1.0</td>\n",
       "      <td>1.0</td>\n",
       "      <td>1.0</td>\n",
       "    </tr>\n",
       "    <tr>\n",
       "      <th>Walnut Finish</th>\n",
       "      <td>9.0</td>\n",
       "      <td>4.888889</td>\n",
       "      <td>0.333333</td>\n",
       "      <td>4.0</td>\n",
       "      <td>5.0</td>\n",
       "      <td>5.0</td>\n",
       "      <td>5.0</td>\n",
       "      <td>5.0</td>\n",
       "      <td>9.0</td>\n",
       "      <td>1.000000</td>\n",
       "      <td>0.000000</td>\n",
       "      <td>1.0</td>\n",
       "      <td>1.0</td>\n",
       "      <td>1.0</td>\n",
       "      <td>1.0</td>\n",
       "      <td>1.0</td>\n",
       "    </tr>\n",
       "    <tr>\n",
       "      <th>White</th>\n",
       "      <td>91.0</td>\n",
       "      <td>4.142857</td>\n",
       "      <td>1.464934</td>\n",
       "      <td>1.0</td>\n",
       "      <td>4.0</td>\n",
       "      <td>5.0</td>\n",
       "      <td>5.0</td>\n",
       "      <td>5.0</td>\n",
       "      <td>91.0</td>\n",
       "      <td>0.813187</td>\n",
       "      <td>0.391921</td>\n",
       "      <td>0.0</td>\n",
       "      <td>1.0</td>\n",
       "      <td>1.0</td>\n",
       "      <td>1.0</td>\n",
       "      <td>1.0</td>\n",
       "    </tr>\n",
       "    <tr>\n",
       "      <th>White  Dot</th>\n",
       "      <td>184.0</td>\n",
       "      <td>4.423913</td>\n",
       "      <td>1.047857</td>\n",
       "      <td>1.0</td>\n",
       "      <td>4.0</td>\n",
       "      <td>5.0</td>\n",
       "      <td>5.0</td>\n",
       "      <td>5.0</td>\n",
       "      <td>184.0</td>\n",
       "      <td>0.934783</td>\n",
       "      <td>0.247583</td>\n",
       "      <td>0.0</td>\n",
       "      <td>1.0</td>\n",
       "      <td>1.0</td>\n",
       "      <td>1.0</td>\n",
       "      <td>1.0</td>\n",
       "    </tr>\n",
       "    <tr>\n",
       "      <th>White  Plus</th>\n",
       "      <td>78.0</td>\n",
       "      <td>4.358974</td>\n",
       "      <td>1.184032</td>\n",
       "      <td>1.0</td>\n",
       "      <td>4.0</td>\n",
       "      <td>5.0</td>\n",
       "      <td>5.0</td>\n",
       "      <td>5.0</td>\n",
       "      <td>78.0</td>\n",
       "      <td>0.897436</td>\n",
       "      <td>0.305352</td>\n",
       "      <td>0.0</td>\n",
       "      <td>1.0</td>\n",
       "      <td>1.0</td>\n",
       "      <td>1.0</td>\n",
       "      <td>1.0</td>\n",
       "    </tr>\n",
       "    <tr>\n",
       "      <th>White  Show</th>\n",
       "      <td>85.0</td>\n",
       "      <td>4.282353</td>\n",
       "      <td>1.278129</td>\n",
       "      <td>1.0</td>\n",
       "      <td>4.0</td>\n",
       "      <td>5.0</td>\n",
       "      <td>5.0</td>\n",
       "      <td>5.0</td>\n",
       "      <td>85.0</td>\n",
       "      <td>0.870588</td>\n",
       "      <td>0.337647</td>\n",
       "      <td>0.0</td>\n",
       "      <td>1.0</td>\n",
       "      <td>1.0</td>\n",
       "      <td>1.0</td>\n",
       "      <td>1.0</td>\n",
       "    </tr>\n",
       "    <tr>\n",
       "      <th>White  Spot</th>\n",
       "      <td>109.0</td>\n",
       "      <td>4.311927</td>\n",
       "      <td>1.222454</td>\n",
       "      <td>1.0</td>\n",
       "      <td>4.0</td>\n",
       "      <td>5.0</td>\n",
       "      <td>5.0</td>\n",
       "      <td>5.0</td>\n",
       "      <td>109.0</td>\n",
       "      <td>0.889908</td>\n",
       "      <td>0.314450</td>\n",
       "      <td>0.0</td>\n",
       "      <td>1.0</td>\n",
       "      <td>1.0</td>\n",
       "      <td>1.0</td>\n",
       "      <td>1.0</td>\n",
       "    </tr>\n",
       "  </tbody>\n",
       "</table>\n",
       "</div>"
      ],
      "text/plain": [
       "                             rating                                          \\\n",
       "                              count      mean       std  min  25%  50%  75%   \n",
       "variation                                                                     \n",
       "Black                         261.0  4.233716  1.339838  1.0  4.0  5.0  5.0   \n",
       "Black  Dot                    516.0  4.453488  1.027660  1.0  4.0  5.0  5.0   \n",
       "Black  Plus                   270.0  4.370370  1.158391  1.0  4.0  5.0  5.0   \n",
       "Black  Show                   265.0  4.490566  0.996635  1.0  4.0  5.0  5.0   \n",
       "Black  Spot                   241.0  4.311203  1.247764  1.0  4.0  5.0  5.0   \n",
       "Charcoal Fabric               430.0  4.730233  0.683994  1.0  5.0  5.0  5.0   \n",
       "Configuration: Fire TV Stick  350.0  4.591429  0.990751  1.0  5.0  5.0  5.0   \n",
       "Heather Gray Fabric           157.0  4.694268  0.647108  2.0  5.0  5.0  5.0   \n",
       "Oak Finish                     14.0  4.857143  0.363137  4.0  5.0  5.0  5.0   \n",
       "Sandstone Fabric               90.0  4.355556  0.997875  1.0  4.0  5.0  5.0   \n",
       "Walnut Finish                   9.0  4.888889  0.333333  4.0  5.0  5.0  5.0   \n",
       "White                          91.0  4.142857  1.464934  1.0  4.0  5.0  5.0   \n",
       "White  Dot                    184.0  4.423913  1.047857  1.0  4.0  5.0  5.0   \n",
       "White  Plus                    78.0  4.358974  1.184032  1.0  4.0  5.0  5.0   \n",
       "White  Show                    85.0  4.282353  1.278129  1.0  4.0  5.0  5.0   \n",
       "White  Spot                   109.0  4.311927  1.222454  1.0  4.0  5.0  5.0   \n",
       "\n",
       "                                  feedback                                     \\\n",
       "                              max    count      mean       std  min  25%  50%   \n",
       "variation                                                                       \n",
       "Black                         5.0    261.0  0.865900  0.341414  0.0  1.0  1.0   \n",
       "Black  Dot                    5.0    516.0  0.930233  0.255002  0.0  1.0  1.0   \n",
       "Black  Plus                   5.0    270.0  0.896296  0.305442  0.0  1.0  1.0   \n",
       "Black  Show                   5.0    265.0  0.932075  0.252092  0.0  1.0  1.0   \n",
       "Black  Spot                   5.0    241.0  0.867220  0.340043  0.0  1.0  1.0   \n",
       "Charcoal Fabric               5.0    430.0  0.972093  0.164898  0.0  1.0  1.0   \n",
       "Configuration: Fire TV Stick  5.0    350.0  0.920000  0.271682  0.0  1.0  1.0   \n",
       "Heather Gray Fabric           5.0    157.0  0.987261  0.112504  0.0  1.0  1.0   \n",
       "Oak Finish                    5.0     14.0  1.000000  0.000000  1.0  1.0  1.0   \n",
       "Sandstone Fabric              5.0     90.0  0.933333  0.250841  0.0  1.0  1.0   \n",
       "Walnut Finish                 5.0      9.0  1.000000  0.000000  1.0  1.0  1.0   \n",
       "White                         5.0     91.0  0.813187  0.391921  0.0  1.0  1.0   \n",
       "White  Dot                    5.0    184.0  0.934783  0.247583  0.0  1.0  1.0   \n",
       "White  Plus                   5.0     78.0  0.897436  0.305352  0.0  1.0  1.0   \n",
       "White  Show                   5.0     85.0  0.870588  0.337647  0.0  1.0  1.0   \n",
       "White  Spot                   5.0    109.0  0.889908  0.314450  0.0  1.0  1.0   \n",
       "\n",
       "                                        \n",
       "                              75%  max  \n",
       "variation                               \n",
       "Black                         1.0  1.0  \n",
       "Black  Dot                    1.0  1.0  \n",
       "Black  Plus                   1.0  1.0  \n",
       "Black  Show                   1.0  1.0  \n",
       "Black  Spot                   1.0  1.0  \n",
       "Charcoal Fabric               1.0  1.0  \n",
       "Configuration: Fire TV Stick  1.0  1.0  \n",
       "Heather Gray Fabric           1.0  1.0  \n",
       "Oak Finish                    1.0  1.0  \n",
       "Sandstone Fabric              1.0  1.0  \n",
       "Walnut Finish                 1.0  1.0  \n",
       "White                         1.0  1.0  \n",
       "White  Dot                    1.0  1.0  \n",
       "White  Plus                   1.0  1.0  \n",
       "White  Show                   1.0  1.0  \n",
       "White  Spot                   1.0  1.0  "
      ]
     },
     "execution_count": 14,
     "metadata": {},
     "output_type": "execute_result"
    }
   ],
   "source": [
    "# I wanted to see the counts and standard deviations going into the means above. The counts are all generally low\n",
    "# enough that I would expect to see this level of variation naturally. Especially since the outliers like Walnut\n",
    "# Finish have very low counts\n",
    "\n",
    "# There might be some merit to the idea that some varaitions are preferred over others, but from this data alone,\n",
    "# I probably wouldn't assume that is the case.\n",
    "df.groupby('variation').describe()"
   ]
  },
  {
   "cell_type": "markdown",
   "metadata": {},
   "source": [
    "## Let's look at the reviews"
   ]
  },
  {
   "cell_type": "code",
   "execution_count": 15,
   "metadata": {},
   "outputs": [
    {
     "data": {
      "text/plain": [
       "<AxesSubplot:>"
      ]
     },
     "execution_count": 15,
     "metadata": {},
     "output_type": "execute_result"
    },
    {
     "data": {
      "image/png": "[encoded data removed]",
      "text/plain": [
       "<Figure size 432x288 with 1 Axes>"
      ]
     },
     "metadata": {
      "needs_background": "light"
     },
     "output_type": "display_data"
    }
   ],
   "source": [
    "# Let's see what the top words are\n",
    "df['verified_reviews'].str.split(expand=True).stack().value_counts().head(20).plot(kind=\"bar\")\n",
    "# Well that was unhelpful, let's get rid of those unhelpful words"
   ]
  },
  {
   "cell_type": "code",
   "execution_count": 23,
   "metadata": {},
   "outputs": [
    {
     "name": "stderr",
     "output_type": "stream",
     "text": [
      "[nltk_data] Downloading package stopwords to /home/matt/nltk_data...\n",
      "[nltk_data]   Package stopwords is already up-to-date!\n"
     ]
    }
   ],
   "source": [
    "import re\n",
    "import nltk\n",
    "nltk.download('stopwords')\n",
    "from nltk.corpus import stopwords\n",
    "stop = stopwords.words('english')"
   ]
  },
  {
   "cell_type": "code",
   "execution_count": 32,
   "metadata": {},
   "outputs": [
    {
     "data": {
      "text/plain": [
       "<AxesSubplot:>"
      ]
     },
     "execution_count": 32,
     "metadata": {},
     "output_type": "execute_result"
    },
    {
     "data": {
      "image/png": "[encoded data removed]",
      "text/plain": [
       "<Figure size 432x288 with 1 Axes>"
      ]
     },
     "metadata": {
      "needs_background": "light"
     },
     "output_type": "display_data"
    }
   ],
   "source": [
    "df['verified_reviews'].apply(lambda x: \" \".join([item.lower() for item in re.sub(\"[^\\w]\", \" \",  x).split() if item.lower() not in stop])).str.split(expand=True).stack().value_counts().head(20).plot(kind=\"bar\")\n",
    "# This is a bit more helpful. Might want to add more custom words to stop words, such as alexa.\n",
    "# But music is very common so that might be helpful for determining what people are using alexa for."
   ]
  },
  {
   "cell_type": "code",
   "execution_count": 33,
   "metadata": {},
   "outputs": [
    {
     "data": {
      "text/plain": [
       "<AxesSubplot:>"
      ]
     },
     "execution_count": 33,
     "metadata": {},
     "output_type": "execute_result"
    },
    {
     "data": {
      "image/png": "[encoded data removed]",
      "text/plain": [
       "<Figure size 432x288 with 1 Axes>"
      ]
     },
     "metadata": {
      "needs_background": "light"
     },
     "output_type": "display_data"
    }
   ],
   "source": [
    "# Lets look at the same thing, filtered by feedback\n",
    "# First lets look at where they customer would recommend the product\n",
    "df[df['feedback'] == 1]['verified_reviews'].apply(lambda x: \" \".join([item.lower() for item in re.sub(\"[^\\w]\", \" \",  x).split() if item.lower() not in stop])).str.split(expand=True).stack().value_counts().head(20).plot(kind=\"bar\")\n",
    "# This looks similar to the complete dataframe."
   ]
  },
  {
   "cell_type": "code",
   "execution_count": 36,
   "metadata": {},
   "outputs": [
    {
     "data": {
      "text/plain": [
       "<AxesSubplot:>"
      ]
     },
     "execution_count": 36,
     "metadata": {},
     "output_type": "execute_result"
    },
    {
     "data": {
      "image/png": "[encoded data removed]",
      "text/plain": [
       "<Figure size 432x288 with 1 Axes>"
      ]
     },
     "metadata": {
      "needs_background": "light"
     },
     "output_type": "display_data"
    }
   ],
   "source": [
    "# Lets see the negative reviews\n",
    "df[df['feedback'] == 0]['verified_reviews'].apply(lambda x: \" \".join([item.lower() for item in re.sub(\"[^\\w]\", \" \",  x).split() if item.lower() not in stop])).str.split(expand=True).stack().value_counts().head(20).plot(kind=\"bar\")\n",
    "# I don't think that was very helpful. This makes sense because reading the bad reviews, it tends to be people\n",
    "# explaining why they are dissatisfied which requires more context than a bag of words"
   ]
  },
  {
   "cell_type": "markdown",
   "metadata": {},
   "source": [
    "## Additional Investigation"
   ]
  },
  {
   "cell_type": "code",
   "execution_count": 44,
   "metadata": {},
   "outputs": [
    {
     "data": {
      "text/plain": [
       "array(['31-Jul-18', '30-Jul-18', '29-Jul-18', '28-Jul-18', '27-Jul-18',\n",
       "       '26-Jul-18', '25-Jul-18', '24-Jul-18', '23-Jul-18', '22-Jul-18',\n",
       "       '21-Jul-18', '20-Jul-18', '19-Jul-18', '18-Jul-18', '17-Jul-18',\n",
       "       '16-Jul-18', '15-Jul-18', '14-Jul-18', '13-Jul-18', '12-Jul-18',\n",
       "       '11-Jul-18', '10-Jul-18', '9-Jul-18', '8-Jul-18', '7-Jul-18',\n",
       "       '6-Jul-18', '5-Jul-18', '4-Jul-18', '3-Jul-18', '2-Jul-18',\n",
       "       '1-Jul-18', '30-Jun-18', '29-Jun-18', '28-Jun-18', '27-Jun-18',\n",
       "       '26-Jun-18', '25-Jun-18', '24-Jun-18', '23-Jun-18', '22-Jun-18',\n",
       "       '21-Jun-18', '20-Jun-18', '19-Jun-18', '18-Jun-18', '17-Jun-18',\n",
       "       '16-Jun-18', '15-Jun-18', '14-Jun-18', '13-Jun-18', '12-Jun-18',\n",
       "       '11-Jun-18', '10-Jun-18', '9-Jun-18', '8-Jun-18', '7-Jun-18',\n",
       "       '6-Jun-18', '5-Jun-18', '4-Jun-18', '3-Jun-18', '2-Jun-18',\n",
       "       '1-Jun-18', '31-May-18', '30-May-18', '29-May-18', '28-May-18',\n",
       "       '27-May-18', '26-May-18', '25-May-18', '24-May-18', '23-May-18',\n",
       "       '22-May-18', '21-May-18', '20-May-18', '19-May-18', '18-May-18',\n",
       "       '17-May-18', '16-May-18'], dtype=object)"
      ]
     },
     "execution_count": 44,
     "metadata": {},
     "output_type": "execute_result"
    },
    {
     "data": {
      "image/png": "[encoded data removed]",
      "text/plain": [
       "<Figure size 432x288 with 1 Axes>"
      ]
     },
     "metadata": {
      "needs_background": "light"
     },
     "output_type": "display_data"
    }
   ],
   "source": [
    "# Let's see what the date range is and when most of the reviews are from\n",
    "df['date'].astype(\"datetime64\").dt.month.value_counts().plot(kind='bar')\n",
    "df['date'].unique()\n",
    "# So almost all of this data is from Jul 2018, with a small bit from June and May"
   ]
  },
  {
   "cell_type": "code",
   "execution_count": null,
   "metadata": {},
   "outputs": [],
   "source": []
  }
 ],
 "metadata": {
  "kernelspec": {
   "display_name": "Python 3",
   "language": "python",
   "name": "python3"
  },
  "language_info": {
   "codemirror_mode": {
    "name": "ipython",
    "version": 3
   },
   "file_extension": ".py",
   "mimetype": "text/x-python",
   "name": "python",
   "nbconvert_exporter": "python",
   "pygments_lexer": "ipython3",
   "version": "3.6.9"
  }
 },
 "nbformat": 4,
 "nbformat_minor": 4
}
